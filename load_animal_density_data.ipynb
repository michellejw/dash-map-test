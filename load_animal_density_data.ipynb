{
 "cells": [
  {
   "cell_type": "markdown",
   "id": "da9a1ffc-0691-4098-b24c-d1d848fe9f95",
   "metadata": {},
   "source": [
    "# Load Animal Density Data\n",
    "\n",
    "In this notebook, we will look into how to load and plot marine mammal density data, e.g., from the Duke Marine Lab habitat-based model.\n",
    "\n",
    "https://seamap.env.duke.edu/models/Duke/GOM/"
   ]
  },
  {
   "cell_type": "code",
   "execution_count": 8,
   "id": "ac6ad029-0fc0-476d-975f-9c2ae0cbaba4",
   "metadata": {},
   "outputs": [],
   "source": [
    "import zipfile\n",
    "import os\n",
    "import glob\n"
   ]
  },
  {
   "cell_type": "markdown",
   "id": "75d00ea7-a572-44e1-8842-c7ba2620708b",
   "metadata": {},
   "source": [
    "## Download and unzip the data\n",
    "\n",
    "First, I went to the website above and downloaded each of the species density data zip files into the data/roberts/ folder."
   ]
  },
  {
   "cell_type": "code",
   "execution_count": 11,
   "id": "84b07296-ab8b-4acb-8d15-cc7dded2a1ab",
   "metadata": {},
   "outputs": [
    {
     "data": {
      "text/plain": [
       "['data/roberts/GOM_Clymene_dolphin_v2.3.zip',\n",
       " 'data/roberts/GOM_Sperm_whale_v4.2.zip',\n",
       " 'data/roberts/GOM_Spinner_dolphin_v2.3.zip',\n",
       " 'data/roberts/GOM_Pygmy_killer_whale_v1.3.zip',\n",
       " 'data/roberts/GOM_False_killer_whale_v1.3.zip',\n",
       " 'data/roberts/GOM_Striped_dolphin_v2.3.zip',\n",
       " 'data/roberts/GOM_Brydes_whale_v3.1.zip',\n",
       " 'data/roberts/GOM_Melon_headed_whale_v1.4.zip',\n",
       " 'data/roberts/GOM_Killer_whale_v1.3.zip',\n",
       " 'data/roberts/GOM_Frasers_dolphin_v1.3.zip',\n",
       " 'data/roberts/GOM_Beaked_whales_v1.4.zip',\n",
       " 'data/roberts/GOM_Common_bottlenose_dolphin_v3.3.zip',\n",
       " 'data/roberts/GOM_Atlantic_spotted_dolphin_v4.3.zip',\n",
       " 'data/roberts/GOM_Short_finned_pilot_whale_v3.3.zip',\n",
       " 'data/roberts/GOM_Dwarf_and_pygmy_sperm_whales_v3.3.zip',\n",
       " 'data/roberts/GOM_Fin_whale_v1.3.zip',\n",
       " 'data/roberts/GOM_Pantropical_spotted_dolphin_v3.3.zip',\n",
       " 'data/roberts/GOM_Rough_toothed_dolphin_v1.3.zip',\n",
       " 'data/roberts/GOM_Rissos_dolphin_v2.3.zip']"
      ]
     },
     "execution_count": 11,
     "metadata": {},
     "output_type": "execute_result"
    }
   ],
   "source": [
    "zip_file_list"
   ]
  },
  {
   "cell_type": "code",
   "execution_count": 6,
   "id": "1bf4e810-2553-4fcc-affc-9c24c4b37fee",
   "metadata": {},
   "outputs": [],
   "source": [
    "\n",
    "\n",
    "zip_ref = zipfile.ZipFile(r'data/roberts/GOM_Atlantic_spotted_dolphin_v4.3.zip')\n",
    "zip_ref.extractall('data/roberts/unzipped')\n",
    "                          "
   ]
  },
  {
   "cell_type": "code",
   "execution_count": null,
   "id": "8bd40f94-c4e6-42ee-9dea-ca952f9f6aa1",
   "metadata": {},
   "outputs": [],
   "source": []
  }
 ],
 "metadata": {
  "kernelspec": {
   "display_name": "Python 3 (ipykernel)",
   "language": "python",
   "name": "python3"
  },
  "language_info": {
   "codemirror_mode": {
    "name": "ipython",
    "version": 3
   },
   "file_extension": ".py",
   "mimetype": "text/x-python",
   "name": "python",
   "nbconvert_exporter": "python",
   "pygments_lexer": "ipython3",
   "version": "3.10.2"
  }
 },
 "nbformat": 4,
 "nbformat_minor": 5
}
